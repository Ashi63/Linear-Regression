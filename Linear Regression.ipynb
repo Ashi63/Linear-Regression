{
 "cells": [
  {
   "cell_type": "code",
   "execution_count": 3,
   "metadata": {},
   "outputs": [],
   "source": [
    "import numpy as np\n",
    "import pandas as pd\n",
    "import matplotlib.pyplot as plt"
   ]
  },
  {
   "cell_type": "code",
   "execution_count": 5,
   "metadata": {},
   "outputs": [
    {
     "data": {
      "text/html": [
       "<div>\n",
       "<style scoped>\n",
       "    .dataframe tbody tr th:only-of-type {\n",
       "        vertical-align: middle;\n",
       "    }\n",
       "\n",
       "    .dataframe tbody tr th {\n",
       "        vertical-align: top;\n",
       "    }\n",
       "\n",
       "    .dataframe thead th {\n",
       "        text-align: right;\n",
       "    }\n",
       "</style>\n",
       "<table border=\"1\" class=\"dataframe\">\n",
       "  <thead>\n",
       "    <tr style=\"text-align: right;\">\n",
       "      <th></th>\n",
       "      <th>Unnamed: 0</th>\n",
       "      <th>TV</th>\n",
       "      <th>Radio</th>\n",
       "      <th>Newspaper</th>\n",
       "      <th>Sales</th>\n",
       "    </tr>\n",
       "  </thead>\n",
       "  <tbody>\n",
       "    <tr>\n",
       "      <th>0</th>\n",
       "      <td>1</td>\n",
       "      <td>230.1</td>\n",
       "      <td>37.8</td>\n",
       "      <td>69.2</td>\n",
       "      <td>22.1</td>\n",
       "    </tr>\n",
       "    <tr>\n",
       "      <th>1</th>\n",
       "      <td>2</td>\n",
       "      <td>44.5</td>\n",
       "      <td>39.3</td>\n",
       "      <td>45.1</td>\n",
       "      <td>10.4</td>\n",
       "    </tr>\n",
       "    <tr>\n",
       "      <th>2</th>\n",
       "      <td>3</td>\n",
       "      <td>17.2</td>\n",
       "      <td>45.9</td>\n",
       "      <td>69.3</td>\n",
       "      <td>9.3</td>\n",
       "    </tr>\n",
       "    <tr>\n",
       "      <th>3</th>\n",
       "      <td>4</td>\n",
       "      <td>151.5</td>\n",
       "      <td>41.3</td>\n",
       "      <td>58.5</td>\n",
       "      <td>18.5</td>\n",
       "    </tr>\n",
       "    <tr>\n",
       "      <th>4</th>\n",
       "      <td>5</td>\n",
       "      <td>180.8</td>\n",
       "      <td>10.8</td>\n",
       "      <td>58.4</td>\n",
       "      <td>12.9</td>\n",
       "    </tr>\n",
       "  </tbody>\n",
       "</table>\n",
       "</div>"
      ],
      "text/plain": [
       "   Unnamed: 0     TV  Radio  Newspaper  Sales\n",
       "0           1  230.1   37.8       69.2   22.1\n",
       "1           2   44.5   39.3       45.1   10.4\n",
       "2           3   17.2   45.9       69.3    9.3\n",
       "3           4  151.5   41.3       58.5   18.5\n",
       "4           5  180.8   10.8       58.4   12.9"
      ]
     },
     "execution_count": 5,
     "metadata": {},
     "output_type": "execute_result"
    }
   ],
   "source": [
    "dataset=pd.read_csv('Advertising.csv')\n",
    "dataset.head()"
   ]
  },
  {
   "cell_type": "code",
   "execution_count": null,
   "metadata": {},
   "outputs": [],
   "source": [
    "dataset.info"
   ]
  },
  {
   "cell_type": "code",
   "execution_count": 59,
   "metadata": {},
   "outputs": [
    {
     "data": {
      "text/plain": [
       "array([[230.1],\n",
       "       [ 44.5],\n",
       "       [ 17.2],\n",
       "       [151.5],\n",
       "       [180.8],\n",
       "       [  8.7],\n",
       "       [ 57.5],\n",
       "       [120.2],\n",
       "       [  8.6],\n",
       "       [199.8],\n",
       "       [ 66.1],\n",
       "       [214.7],\n",
       "       [ 23.8],\n",
       "       [ 97.5],\n",
       "       [204.1],\n",
       "       [195.4],\n",
       "       [ 67.8],\n",
       "       [281.4],\n",
       "       [ 69.2],\n",
       "       [147.3],\n",
       "       [218.4],\n",
       "       [237.4],\n",
       "       [ 13.2],\n",
       "       [228.3],\n",
       "       [ 62.3],\n",
       "       [262.9],\n",
       "       [142.9],\n",
       "       [240.1],\n",
       "       [248.8],\n",
       "       [ 70.6],\n",
       "       [292.9],\n",
       "       [112.9],\n",
       "       [ 97.2],\n",
       "       [265.6],\n",
       "       [ 95.7],\n",
       "       [290.7],\n",
       "       [266.9],\n",
       "       [ 74.7],\n",
       "       [ 43.1],\n",
       "       [228. ],\n",
       "       [202.5],\n",
       "       [177. ],\n",
       "       [293.6],\n",
       "       [206.9],\n",
       "       [ 25.1],\n",
       "       [175.1],\n",
       "       [ 89.7],\n",
       "       [239.9],\n",
       "       [227.2],\n",
       "       [ 66.9],\n",
       "       [199.8],\n",
       "       [100.4],\n",
       "       [216.4],\n",
       "       [182.6],\n",
       "       [262.7],\n",
       "       [198.9],\n",
       "       [  7.3],\n",
       "       [136.2],\n",
       "       [210.8],\n",
       "       [210.7],\n",
       "       [ 53.5],\n",
       "       [261.3],\n",
       "       [239.3],\n",
       "       [102.7],\n",
       "       [131.1],\n",
       "       [ 69. ],\n",
       "       [ 31.5],\n",
       "       [139.3],\n",
       "       [237.4],\n",
       "       [216.8],\n",
       "       [199.1],\n",
       "       [109.8],\n",
       "       [ 26.8],\n",
       "       [129.4],\n",
       "       [213.4],\n",
       "       [ 16.9],\n",
       "       [ 27.5],\n",
       "       [120.5],\n",
       "       [  5.4],\n",
       "       [116. ],\n",
       "       [ 76.4],\n",
       "       [239.8],\n",
       "       [ 75.3],\n",
       "       [ 68.4],\n",
       "       [213.5],\n",
       "       [193.2],\n",
       "       [ 76.3],\n",
       "       [110.7],\n",
       "       [ 88.3],\n",
       "       [109.8],\n",
       "       [134.3],\n",
       "       [ 28.6],\n",
       "       [217.7],\n",
       "       [250.9],\n",
       "       [107.4],\n",
       "       [163.3],\n",
       "       [197.6],\n",
       "       [184.9],\n",
       "       [289.7],\n",
       "       [135.2],\n",
       "       [222.4],\n",
       "       [296.4],\n",
       "       [280.2],\n",
       "       [187.9],\n",
       "       [238.2],\n",
       "       [137.9],\n",
       "       [ 25. ],\n",
       "       [ 90.4],\n",
       "       [ 13.1],\n",
       "       [255.4],\n",
       "       [225.8],\n",
       "       [241.7],\n",
       "       [175.7],\n",
       "       [209.6],\n",
       "       [ 78.2],\n",
       "       [ 75.1],\n",
       "       [139.2],\n",
       "       [ 76.4],\n",
       "       [125.7],\n",
       "       [ 19.4],\n",
       "       [141.3],\n",
       "       [ 18.8],\n",
       "       [224. ],\n",
       "       [123.1],\n",
       "       [229.5],\n",
       "       [ 87.2],\n",
       "       [  7.8],\n",
       "       [ 80.2],\n",
       "       [220.3],\n",
       "       [ 59.6],\n",
       "       [  0.7],\n",
       "       [265.2],\n",
       "       [  8.4],\n",
       "       [219.8],\n",
       "       [ 36.9],\n",
       "       [ 48.3],\n",
       "       [ 25.6],\n",
       "       [273.7],\n",
       "       [ 43. ],\n",
       "       [184.9],\n",
       "       [ 73.4],\n",
       "       [193.7],\n",
       "       [220.5],\n",
       "       [104.6],\n",
       "       [ 96.2],\n",
       "       [140.3],\n",
       "       [240.1],\n",
       "       [243.2],\n",
       "       [ 38. ],\n",
       "       [ 44.7],\n",
       "       [280.7],\n",
       "       [121. ],\n",
       "       [197.6],\n",
       "       [171.3],\n",
       "       [187.8],\n",
       "       [  4.1],\n",
       "       [ 93.9],\n",
       "       [149.8],\n",
       "       [ 11.7],\n",
       "       [131.7],\n",
       "       [172.5],\n",
       "       [ 85.7],\n",
       "       [188.4],\n",
       "       [163.5],\n",
       "       [117.2],\n",
       "       [234.5],\n",
       "       [ 17.9],\n",
       "       [206.8],\n",
       "       [215.4],\n",
       "       [284.3],\n",
       "       [ 50. ],\n",
       "       [164.5],\n",
       "       [ 19.6],\n",
       "       [168.4],\n",
       "       [222.4],\n",
       "       [276.9],\n",
       "       [248.4],\n",
       "       [170.2],\n",
       "       [276.7],\n",
       "       [165.6],\n",
       "       [156.6],\n",
       "       [218.5],\n",
       "       [ 56.2],\n",
       "       [287.6],\n",
       "       [253.8],\n",
       "       [205. ],\n",
       "       [139.5],\n",
       "       [191.1],\n",
       "       [286. ],\n",
       "       [ 18.7],\n",
       "       [ 39.5],\n",
       "       [ 75.5],\n",
       "       [ 17.2],\n",
       "       [166.8],\n",
       "       [149.7],\n",
       "       [ 38.2],\n",
       "       [ 94.2],\n",
       "       [177. ],\n",
       "       [283.6],\n",
       "       [232.1]])"
      ]
     },
     "execution_count": 59,
     "metadata": {},
     "output_type": "execute_result"
    }
   ],
   "source": [
    "X=dataset['TV'].values.reshape(-1,1) #load last column\n",
    "X"
   ]
  },
  {
   "cell_type": "code",
   "execution_count": 56,
   "metadata": {},
   "outputs": [
    {
     "data": {
      "text/plain": [
       "array([22.1, 10.4,  9.3, 18.5, 12.9,  7.2, 11.8, 13.2,  4.8, 10.6,  8.6,\n",
       "       17.4,  9.2,  9.7, 19. , 22.4, 12.5, 24.4, 11.3, 14.6, 18. , 12.5,\n",
       "        5.6, 15.5,  9.7, 12. , 15. , 15.9, 18.9, 10.5, 21.4, 11.9,  9.6,\n",
       "       17.4,  9.5, 12.8, 25.4, 14.7, 10.1, 21.5, 16.6, 17.1, 20.7, 12.9,\n",
       "        8.5, 14.9, 10.6, 23.2, 14.8,  9.7, 11.4, 10.7, 22.6, 21.2, 20.2,\n",
       "       23.7,  5.5, 13.2, 23.8, 18.4,  8.1, 24.2, 15.7, 14. , 18. ,  9.3,\n",
       "        9.5, 13.4, 18.9, 22.3, 18.3, 12.4,  8.8, 11. , 17. ,  8.7,  6.9,\n",
       "       14.2,  5.3, 11. , 11.8, 12.3, 11.3, 13.6, 21.7, 15.2, 12. , 16. ,\n",
       "       12.9, 16.7, 11.2,  7.3, 19.4, 22.2, 11.5, 16.9, 11.7, 15.5, 25.4,\n",
       "       17.2, 11.7, 23.8, 14.8, 14.7, 20.7, 19.2,  7.2,  8.7,  5.3, 19.8,\n",
       "       13.4, 21.8, 14.1, 15.9, 14.6, 12.6, 12.2,  9.4, 15.9,  6.6, 15.5,\n",
       "        7. , 11.6, 15.2, 19.7, 10.6,  6.6,  8.8, 24.7,  9.7,  1.6, 12.7,\n",
       "        5.7, 19.6, 10.8, 11.6,  9.5, 20.8,  9.6, 20.7, 10.9, 19.2, 20.1,\n",
       "       10.4, 11.4, 10.3, 13.2, 25.4, 10.9, 10.1, 16.1, 11.6, 16.6, 19. ,\n",
       "       15.6,  3.2, 15.3, 10.1,  7.3, 12.9, 14.4, 13.3, 14.9, 18. , 11.9,\n",
       "       11.9,  8. , 12.2, 17.1, 15. ,  8.4, 14.5,  7.6, 11.7, 11.5, 27. ,\n",
       "       20.2, 11.7, 11.8, 12.6, 10.5, 12.2,  8.7, 26.2, 17.6, 22.6, 10.3,\n",
       "       17.3, 15.9,  6.7, 10.8,  9.9,  5.9, 19.6, 17.3,  7.6,  9.7, 12.8,\n",
       "       25.5, 13.4])"
      ]
     },
     "execution_count": 56,
     "metadata": {},
     "output_type": "execute_result"
    }
   ],
   "source": [
    "Y=dataset['Sales'].values # load first column\n",
    "Y"
   ]
  },
  {
   "cell_type": "markdown",
   "metadata": {},
   "source": [
    "Splitting the dataset into the Training set and Test set"
   ]
  },
  {
   "cell_type": "code",
   "execution_count": 81,
   "metadata": {},
   "outputs": [],
   "source": [
    "from sklearn.model_selection import train_test_split\n",
    "X_train,X_test,y_train,y_test=train_test_split(X,Y,test_size=0.2,random_state=0)"
   ]
  },
  {
   "cell_type": "markdown",
   "metadata": {},
   "source": [
    "Fitting Simple Linear Regression to the training set"
   ]
  },
  {
   "cell_type": "code",
   "execution_count": 82,
   "metadata": {},
   "outputs": [
    {
     "data": {
      "text/plain": [
       "LinearRegression(copy_X=True, fit_intercept=True, n_jobs=None,\n",
       "         normalize=False)"
      ]
     },
     "execution_count": 82,
     "metadata": {},
     "output_type": "execute_result"
    }
   ],
   "source": [
    "from sklearn.linear_model import LinearRegression \n",
    "regressor=LinearRegression()\n",
    "regressor.fit(X_train,y_train)"
   ]
  },
  {
   "cell_type": "markdown",
   "metadata": {},
   "source": [
    "Predicting the test set results"
   ]
  },
  {
   "cell_type": "code",
   "execution_count": 63,
   "metadata": {},
   "outputs": [
    {
     "data": {
      "text/plain": [
       "array([10.47623281,  9.59288325, 11.45159795, 20.62095042, 15.12301956,\n",
       "        9.87813155,  7.69276154, 18.33896406,  8.38747917, 16.383633  ,\n",
       "       19.3143292 , 11.30437303, 14.49731363, 15.93275666, 10.8074889 ,\n",
       "       12.82263008, 19.51216269,  7.32469923, 10.72927566, 17.11055607,\n",
       "       20.52433406, 13.74738665, 15.34845773, 13.35171966,  9.75391052,\n",
       "       12.95605267, 14.91138373, 16.72409064, 17.59823864,  8.44728929,\n",
       "       10.41182191, 16.44344313, 20.20688032, 18.41257652,  7.8997966 ,\n",
       "        8.15283944, 10.03455803, 15.61070213, 10.43942658,  8.44268851])"
      ]
     },
     "execution_count": 63,
     "metadata": {},
     "output_type": "execute_result"
    }
   ],
   "source": [
    "y_pred=regressor.predict(X_test)\n",
    "y_pred"
   ]
  },
  {
   "cell_type": "code",
   "execution_count": 64,
   "metadata": {},
   "outputs": [
    {
     "data": {
      "text/plain": [
       "7.292493773559366"
      ]
     },
     "execution_count": 64,
     "metadata": {},
     "output_type": "execute_result"
    }
   ],
   "source": [
    "regressor.intercept_"
   ]
  },
  {
   "cell_type": "code",
   "execution_count": 65,
   "metadata": {},
   "outputs": [
    {
     "data": {
      "text/plain": [
       "array([0.04600779])"
      ]
     },
     "execution_count": 65,
     "metadata": {},
     "output_type": "execute_result"
    }
   ],
   "source": [
    "regressor.coef_"
   ]
  },
  {
   "cell_type": "markdown",
   "metadata": {},
   "source": [
    "Visualising the training set results"
   ]
  },
  {
   "cell_type": "code",
   "execution_count": 83,
   "metadata": {},
   "outputs": [
    {
     "data": {
      "image/png": "[encoded data removed]",
      "text/plain": [
       "<Figure size 432x288 with 1 Axes>"
      ]
     },
     "metadata": {
      "needs_background": "light"
     },
     "output_type": "display_data"
    }
   ],
   "source": [
    "plt.scatter(X_train,y_train,color='red')\n",
    "plt.plot(X_train,regressor.predict(X_train),color='blue')\n",
    "plt.title('Sales vs TV (Training Set)')\n",
    "plt.xlabel('TV Budget')\n",
    "plt.ylabel('Sales')\n",
    "plt.show()"
   ]
  },
  {
   "cell_type": "markdown",
   "metadata": {},
   "source": [
    "Visualising the test set results "
   ]
  },
  {
   "cell_type": "code",
   "execution_count": 84,
   "metadata": {},
   "outputs": [
    {
     "data": {
      "image/png": "[encoded data removed]",
      "text/plain": [
       "<Figure size 432x288 with 1 Axes>"
      ]
     },
     "metadata": {
      "needs_background": "light"
     },
     "output_type": "display_data"
    }
   ],
   "source": [
    "plt.scatter(X_test,y_test,color='red')\n",
    "plt.plot(X_train,regressor.predict(X_train),color='blue')\n",
    "plt.title('Sales vs TV (Test Set)')\n",
    "plt.xlabel('TV Budget')\n",
    "plt.ylabel('Sales')\n",
    "plt.show()"
   ]
  },
  {
   "cell_type": "code",
   "execution_count": 85,
   "metadata": {},
   "outputs": [
    {
     "data": {
      "text/plain": [
       "0.6763151577939721"
      ]
     },
     "execution_count": 85,
     "metadata": {},
     "output_type": "execute_result"
    }
   ],
   "source": [
    "from sklearn import metrics\n",
    "sse=metrics.r2_score(y_test,y_pred)\n",
    "sse"
   ]
  },
  {
   "cell_type": "code",
   "execution_count": 99,
   "metadata": {},
   "outputs": [
    {
     "name": "stdout",
     "output_type": "stream",
     "text": [
      "3.191579849311344\n",
      "2.505418178966003\n"
     ]
    }
   ],
   "source": [
    "from sklearn import metrics\n",
    "mae=metrics.mean_absolute_error(y_test,y_pred)\n",
    "mse=metrics.mean_squared_error(y_test,y_pred)\n",
    "rmse=np.sqrt(mse)\n",
    "print(rmse)\n",
    "print(mae)"
   ]
  },
  {
   "cell_type": "code",
   "execution_count": null,
   "metadata": {},
   "outputs": [],
   "source": []
  }
 ],
 "metadata": {
  "kernelspec": {
   "display_name": "Python 3.7.6 ('base')",
   "language": "python",
   "name": "python3"
  },
  "language_info": {
   "codemirror_mode": {
    "name": "ipython",
    "version": 3
   },
   "file_extension": ".py",
   "mimetype": "text/x-python",
   "name": "python",
   "nbconvert_exporter": "python",
   "pygments_lexer": "ipython3",
   "version": "3.7.6"
  },
  "vscode": {
   "interpreter": {
    "hash": "610a6f344c2137faf927ea819c63f6cee33a2c04455044b28099f39fe9722347"
   }
  }
 },
 "nbformat": 4,
 "nbformat_minor": 2
}
